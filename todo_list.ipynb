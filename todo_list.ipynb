{
 "cells": [
  {
   "cell_type": "code",
   "execution_count": 3,
   "metadata": {},
   "outputs": [
    {
     "name": "stdout",
     "output_type": "stream",
     "text": [
      "ADDED task is : waleeed\n",
      "your list ['waleeed']\n"
     ]
    }
   ],
   "source": [
    "def add ():\n",
    "    task=input('addtask:')\n",
    "    tasks.append(task)\n",
    "    print('ADDED task is :', task)\n",
    "    display()\n",
    "def remove ():\n",
    "    inp= input('enter the value you want to remove:')\n",
    "    tasks.remove(inp)\n",
    "    print('Task removed :', inp)\n",
    "    display()\n",
    "def display():\n",
    "    print('your list', tasks)\n",
    "\n",
    "req=input(' press 1 to add \\n press 2 to remove \\n press 3 to display list')\n",
    "\n",
    "if req=='1':\n",
    "    add()\n",
    "elif req=='2':\n",
    "    remove()\n",
    "elif req == '3':\n",
    "    display()\n",
    "else:\n",
    "    print('wrong entry')\n"
   ]
  },
  {
   "cell_type": "code",
   "execution_count": 2,
   "metadata": {},
   "outputs": [],
   "source": [
    "tasks=[]"
   ]
  },
  {
   "cell_type": "code",
   "execution_count": null,
   "metadata": {},
   "outputs": [],
   "source": []
  }
 ],
 "metadata": {
  "kernelspec": {
   "display_name": "Python 3",
   "language": "python",
   "name": "python3"
  },
  "language_info": {
   "codemirror_mode": {
    "name": "ipython",
    "version": 3
   },
   "file_extension": ".py",
   "mimetype": "text/x-python",
   "name": "python",
   "nbconvert_exporter": "python",
   "pygments_lexer": "ipython3",
   "version": "3.11.7"
  }
 },
 "nbformat": 4,
 "nbformat_minor": 2
}
